{
 "cells": [
  {
   "cell_type": "code",
   "execution_count": 146,
   "id": "e6b679a9",
   "metadata": {},
   "outputs": [],
   "source": [
    "## importing python liabraries \n",
    "import pandas as pd\n",
    "import numpy as np\n",
    "import seaborn as sns\n",
    "import matplotlib.pyplot as plt\n",
    "import plotly.express as px"
   ]
  },
  {
   "cell_type": "code",
   "execution_count": 147,
   "id": "a88b16ac",
   "metadata": {},
   "outputs": [],
   "source": [
    "## extract data and load\n",
    "data=pd.read_csv(r'C:\\Users\\pv11379\\OneDrive - Deere & Co\\Desktop\\Personal folder\\Data science\\Database/delivery_time.csv')"
   ]
  },
  {
   "cell_type": "code",
   "execution_count": 148,
   "id": "466b222b",
   "metadata": {},
   "outputs": [],
   "source": [
    "## copy the data\n",
    "df=data.copy()"
   ]
  },
  {
   "cell_type": "markdown",
   "id": "b2d6293f",
   "metadata": {},
   "source": [
    "# understanding data"
   ]
  },
  {
   "cell_type": "code",
   "execution_count": 149,
   "id": "d209ff97",
   "metadata": {},
   "outputs": [
    {
     "data": {
      "text/html": [
       "<div>\n",
       "<style scoped>\n",
       "    .dataframe tbody tr th:only-of-type {\n",
       "        vertical-align: middle;\n",
       "    }\n",
       "\n",
       "    .dataframe tbody tr th {\n",
       "        vertical-align: top;\n",
       "    }\n",
       "\n",
       "    .dataframe thead th {\n",
       "        text-align: right;\n",
       "    }\n",
       "</style>\n",
       "<table border=\"1\" class=\"dataframe\">\n",
       "  <thead>\n",
       "    <tr style=\"text-align: right;\">\n",
       "      <th></th>\n",
       "      <th>Delivery Time</th>\n",
       "      <th>Sorting Time</th>\n",
       "    </tr>\n",
       "  </thead>\n",
       "  <tbody>\n",
       "    <tr>\n",
       "      <th>0</th>\n",
       "      <td>21.0</td>\n",
       "      <td>10</td>\n",
       "    </tr>\n",
       "    <tr>\n",
       "      <th>1</th>\n",
       "      <td>13.5</td>\n",
       "      <td>4</td>\n",
       "    </tr>\n",
       "  </tbody>\n",
       "</table>\n",
       "</div>"
      ],
      "text/plain": [
       "   Delivery Time  Sorting Time\n",
       "0           21.0            10\n",
       "1           13.5             4"
      ]
     },
     "execution_count": 149,
     "metadata": {},
     "output_type": "execute_result"
    }
   ],
   "source": [
    "df.head(2) ## top 2 rows of dataset"
   ]
  },
  {
   "cell_type": "code",
   "execution_count": 150,
   "id": "db3cbaaf",
   "metadata": {},
   "outputs": [
    {
     "data": {
      "text/html": [
       "<div>\n",
       "<style scoped>\n",
       "    .dataframe tbody tr th:only-of-type {\n",
       "        vertical-align: middle;\n",
       "    }\n",
       "\n",
       "    .dataframe tbody tr th {\n",
       "        vertical-align: top;\n",
       "    }\n",
       "\n",
       "    .dataframe thead th {\n",
       "        text-align: right;\n",
       "    }\n",
       "</style>\n",
       "<table border=\"1\" class=\"dataframe\">\n",
       "  <thead>\n",
       "    <tr style=\"text-align: right;\">\n",
       "      <th></th>\n",
       "      <th>Delivery Time</th>\n",
       "      <th>Sorting Time</th>\n",
       "    </tr>\n",
       "  </thead>\n",
       "  <tbody>\n",
       "    <tr>\n",
       "      <th>19</th>\n",
       "      <td>17.83</td>\n",
       "      <td>7</td>\n",
       "    </tr>\n",
       "    <tr>\n",
       "      <th>20</th>\n",
       "      <td>21.50</td>\n",
       "      <td>5</td>\n",
       "    </tr>\n",
       "  </tbody>\n",
       "</table>\n",
       "</div>"
      ],
      "text/plain": [
       "    Delivery Time  Sorting Time\n",
       "19          17.83             7\n",
       "20          21.50             5"
      ]
     },
     "execution_count": 150,
     "metadata": {},
     "output_type": "execute_result"
    }
   ],
   "source": [
    "df.tail(2) ## bottom 2 rows of dataset"
   ]
  },
  {
   "cell_type": "code",
   "execution_count": 151,
   "id": "12c3f9b7",
   "metadata": {},
   "outputs": [
    {
     "name": "stdout",
     "output_type": "stream",
     "text": [
      "total rows in data is -  21\n",
      "total columns in data is -  2\n"
     ]
    }
   ],
   "source": [
    "## shape of data\n",
    "print(\"total rows in data is - \",df.shape[0])\n",
    "print(\"total columns in data is - \", df.shape[1])"
   ]
  },
  {
   "cell_type": "code",
   "execution_count": 152,
   "id": "cc56f960",
   "metadata": {},
   "outputs": [
    {
     "name": "stdout",
     "output_type": "stream",
     "text": [
      "<class 'pandas.core.frame.DataFrame'>\n",
      "RangeIndex: 21 entries, 0 to 20\n",
      "Data columns (total 2 columns):\n",
      " #   Column         Non-Null Count  Dtype  \n",
      "---  ------         --------------  -----  \n",
      " 0   Delivery Time  21 non-null     float64\n",
      " 1   Sorting Time   21 non-null     int64  \n",
      "dtypes: float64(1), int64(1)\n",
      "memory usage: 468.0 bytes\n"
     ]
    }
   ],
   "source": [
    "df.info() ## data information"
   ]
  },
  {
   "cell_type": "code",
   "execution_count": 153,
   "id": "17b4dda1",
   "metadata": {},
   "outputs": [],
   "source": [
    "## inference - 21 rows and 2 columns. delivery time is float data type and sorting time is integer data type."
   ]
  },
  {
   "cell_type": "code",
   "execution_count": 154,
   "id": "02cf1916",
   "metadata": {},
   "outputs": [
    {
     "data": {
      "text/plain": [
       "Delivery Time    0\n",
       "Sorting Time     0\n",
       "dtype: int64"
      ]
     },
     "execution_count": 154,
     "metadata": {},
     "output_type": "execute_result"
    }
   ],
   "source": [
    "df.isna().sum()"
   ]
  },
  {
   "cell_type": "code",
   "execution_count": 155,
   "id": "c2497230",
   "metadata": {},
   "outputs": [
    {
     "data": {
      "text/plain": [
       "Delivery Time    False\n",
       "Sorting Time     False\n",
       "dtype: bool"
      ]
     },
     "execution_count": 155,
     "metadata": {},
     "output_type": "execute_result"
    }
   ],
   "source": [
    "df.isna().any()"
   ]
  },
  {
   "cell_type": "code",
   "execution_count": 156,
   "id": "71de5bab",
   "metadata": {},
   "outputs": [],
   "source": [
    "## No any null values in dataset"
   ]
  },
  {
   "cell_type": "code",
   "execution_count": 157,
   "id": "e1288b3d",
   "metadata": {},
   "outputs": [
    {
     "data": {
      "text/plain": [
       "RangeIndex(start=0, stop=21, step=1)"
      ]
     },
     "execution_count": 157,
     "metadata": {},
     "output_type": "execute_result"
    }
   ],
   "source": [
    "df.index"
   ]
  },
  {
   "cell_type": "code",
   "execution_count": 158,
   "id": "44473dd0",
   "metadata": {},
   "outputs": [
    {
     "data": {
      "text/plain": [
       "Index(['Delivery Time', 'Sorting Time'], dtype='object')"
      ]
     },
     "execution_count": 158,
     "metadata": {},
     "output_type": "execute_result"
    }
   ],
   "source": [
    "df.columns ## columns in dataset"
   ]
  },
  {
   "cell_type": "code",
   "execution_count": 159,
   "id": "3a94cd23",
   "metadata": {},
   "outputs": [
    {
     "data": {
      "text/html": [
       "<div>\n",
       "<style scoped>\n",
       "    .dataframe tbody tr th:only-of-type {\n",
       "        vertical-align: middle;\n",
       "    }\n",
       "\n",
       "    .dataframe tbody tr th {\n",
       "        vertical-align: top;\n",
       "    }\n",
       "\n",
       "    .dataframe thead th {\n",
       "        text-align: right;\n",
       "    }\n",
       "</style>\n",
       "<table border=\"1\" class=\"dataframe\">\n",
       "  <thead>\n",
       "    <tr style=\"text-align: right;\">\n",
       "      <th></th>\n",
       "      <th>Delivery Time</th>\n",
       "      <th>Sorting Time</th>\n",
       "    </tr>\n",
       "  </thead>\n",
       "  <tbody>\n",
       "    <tr>\n",
       "      <th>count</th>\n",
       "      <td>21.000000</td>\n",
       "      <td>21.000000</td>\n",
       "    </tr>\n",
       "    <tr>\n",
       "      <th>mean</th>\n",
       "      <td>16.790952</td>\n",
       "      <td>6.190476</td>\n",
       "    </tr>\n",
       "    <tr>\n",
       "      <th>std</th>\n",
       "      <td>5.074901</td>\n",
       "      <td>2.542028</td>\n",
       "    </tr>\n",
       "    <tr>\n",
       "      <th>min</th>\n",
       "      <td>8.000000</td>\n",
       "      <td>2.000000</td>\n",
       "    </tr>\n",
       "    <tr>\n",
       "      <th>25%</th>\n",
       "      <td>13.500000</td>\n",
       "      <td>4.000000</td>\n",
       "    </tr>\n",
       "    <tr>\n",
       "      <th>50%</th>\n",
       "      <td>17.830000</td>\n",
       "      <td>6.000000</td>\n",
       "    </tr>\n",
       "    <tr>\n",
       "      <th>75%</th>\n",
       "      <td>19.750000</td>\n",
       "      <td>8.000000</td>\n",
       "    </tr>\n",
       "    <tr>\n",
       "      <th>max</th>\n",
       "      <td>29.000000</td>\n",
       "      <td>10.000000</td>\n",
       "    </tr>\n",
       "  </tbody>\n",
       "</table>\n",
       "</div>"
      ],
      "text/plain": [
       "       Delivery Time  Sorting Time\n",
       "count      21.000000     21.000000\n",
       "mean       16.790952      6.190476\n",
       "std         5.074901      2.542028\n",
       "min         8.000000      2.000000\n",
       "25%        13.500000      4.000000\n",
       "50%        17.830000      6.000000\n",
       "75%        19.750000      8.000000\n",
       "max        29.000000     10.000000"
      ]
     },
     "execution_count": 159,
     "metadata": {},
     "output_type": "execute_result"
    }
   ],
   "source": [
    "df.describe() ## statistical details of dataset"
   ]
  },
  {
   "cell_type": "code",
   "execution_count": 160,
   "id": "99093139",
   "metadata": {},
   "outputs": [],
   "source": [
    "## inference - no more gap in min and max data. so variation is less. STD is also low."
   ]
  },
  {
   "cell_type": "code",
   "execution_count": 161,
   "id": "39f9c296",
   "metadata": {},
   "outputs": [
    {
     "data": {
      "text/plain": [
       "Delivery Time    21\n",
       "Sorting Time      9\n",
       "dtype: int64"
      ]
     },
     "execution_count": 161,
     "metadata": {},
     "output_type": "execute_result"
    }
   ],
   "source": [
    "df.nunique() ## number of unique values in columns "
   ]
  },
  {
   "cell_type": "markdown",
   "id": "d4f7de61",
   "metadata": {},
   "source": [
    "# cheking of outliers in dataset"
   ]
  },
  {
   "cell_type": "code",
   "execution_count": 162,
   "id": "de08ce7c",
   "metadata": {},
   "outputs": [
    {
     "data": {
      "image/png": "[encoded data removed]",
      "text/plain": [
       "<Figure size 640x480 with 1 Axes>"
      ]
     },
     "metadata": {},
     "output_type": "display_data"
    }
   ],
   "source": [
    "\n",
    "sns.boxplot(x=df['Delivery Time'])\n",
    "plt.title(\"Box plot of Delivery Time\")\n",
    "plt.show()"
   ]
  },
  {
   "cell_type": "code",
   "execution_count": 163,
   "id": "2e429a05",
   "metadata": {},
   "outputs": [
    {
     "data": {
      "image/png": "[encoded data removed]",
      "text/plain": [
       "<Figure size 640x480 with 1 Axes>"
      ]
     },
     "metadata": {},
     "output_type": "display_data"
    }
   ],
   "source": [
    "sns.boxplot(x=df['Sorting Time'])\n",
    "plt.title(\"Box plot of Sorting Time\")\n",
    "plt.show()"
   ]
  },
  {
   "cell_type": "code",
   "execution_count": 164,
   "id": "805a423b",
   "metadata": {},
   "outputs": [],
   "source": [
    "## inference - No outliers in dataset."
   ]
  },
  {
   "cell_type": "code",
   "execution_count": 165,
   "id": "3eff8f98",
   "metadata": {},
   "outputs": [
    {
     "data": {
      "text/html": [
       "<div>\n",
       "<style scoped>\n",
       "    .dataframe tbody tr th:only-of-type {\n",
       "        vertical-align: middle;\n",
       "    }\n",
       "\n",
       "    .dataframe tbody tr th {\n",
       "        vertical-align: top;\n",
       "    }\n",
       "\n",
       "    .dataframe thead th {\n",
       "        text-align: right;\n",
       "    }\n",
       "</style>\n",
       "<table border=\"1\" class=\"dataframe\">\n",
       "  <thead>\n",
       "    <tr style=\"text-align: right;\">\n",
       "      <th></th>\n",
       "      <th>Delivery Time</th>\n",
       "      <th>Sorting Time</th>\n",
       "    </tr>\n",
       "  </thead>\n",
       "  <tbody>\n",
       "    <tr>\n",
       "      <th>Delivery Time</th>\n",
       "      <td>1.000000</td>\n",
       "      <td>0.825997</td>\n",
       "    </tr>\n",
       "    <tr>\n",
       "      <th>Sorting Time</th>\n",
       "      <td>0.825997</td>\n",
       "      <td>1.000000</td>\n",
       "    </tr>\n",
       "  </tbody>\n",
       "</table>\n",
       "</div>"
      ],
      "text/plain": [
       "               Delivery Time  Sorting Time\n",
       "Delivery Time       1.000000      0.825997\n",
       "Sorting Time        0.825997      1.000000"
      ]
     },
     "execution_count": 165,
     "metadata": {},
     "output_type": "execute_result"
    }
   ],
   "source": [
    "## correlation in dataset\n",
    "corr= df.corr()\n",
    "corr"
   ]
  },
  {
   "cell_type": "code",
   "execution_count": 166,
   "id": "a4101f3a",
   "metadata": {},
   "outputs": [
    {
     "data": {
      "image/png": "[encoded data removed]",
      "text/plain": [
       "<Figure size 640x480 with 2 Axes>"
      ]
     },
     "metadata": {},
     "output_type": "display_data"
    }
   ],
   "source": [
    "sns.heatmap(corr,annot=True,cmap='rainbow')\n",
    "plt.show()"
   ]
  },
  {
   "cell_type": "code",
   "execution_count": 167,
   "id": "7318c63d",
   "metadata": {},
   "outputs": [],
   "source": [
    "## inference - correlation co-efficient is more, so they have strong correlation with each other."
   ]
  },
  {
   "cell_type": "markdown",
   "id": "44ef4247",
   "metadata": {},
   "source": [
    "# exploratory data analysis"
   ]
  },
  {
   "cell_type": "code",
   "execution_count": 168,
   "id": "d59eebd3",
   "metadata": {},
   "outputs": [
    {
     "name": "stdout",
     "output_type": "stream",
     "text": [
      "Average delivery time is -  17.0\n"
     ]
    }
   ],
   "source": [
    "## average delivery time\n",
    "print(\"Average delivery time is - \",round(df['Delivery Time'].mean(),0))"
   ]
  },
  {
   "cell_type": "code",
   "execution_count": 169,
   "id": "ecb1bb94",
   "metadata": {},
   "outputs": [
    {
     "name": "stdout",
     "output_type": "stream",
     "text": [
      "Max delivery time is -  29.0\n"
     ]
    }
   ],
   "source": [
    "## Max delivery time\n",
    "print(\"Max delivery time is - \",round(df['Delivery Time'].max(),0))"
   ]
  },
  {
   "cell_type": "code",
   "execution_count": 170,
   "id": "168249e0",
   "metadata": {},
   "outputs": [
    {
     "name": "stdout",
     "output_type": "stream",
     "text": [
      "Min delivery time is -  8.0\n"
     ]
    }
   ],
   "source": [
    "## Min delivery time\n",
    "print(\"Min delivery time is - \",round(df['Delivery Time'].min(),0))"
   ]
  },
  {
   "cell_type": "code",
   "execution_count": 171,
   "id": "544ac576",
   "metadata": {},
   "outputs": [
    {
     "name": "stdout",
     "output_type": "stream",
     "text": [
      "Max sorting time is -  10\n"
     ]
    }
   ],
   "source": [
    "## Max sorting time\n",
    "print(\"Max sorting time is - \",round(df['Sorting Time'].max(),0))"
   ]
  },
  {
   "cell_type": "code",
   "execution_count": 172,
   "id": "4b570e8f",
   "metadata": {},
   "outputs": [
    {
     "name": "stdout",
     "output_type": "stream",
     "text": [
      "Min sorting time is -  2\n"
     ]
    }
   ],
   "source": [
    "## Min sorting time\n",
    "print(\"Min sorting time is - \",round(df['Sorting Time'].min(),0))"
   ]
  },
  {
   "cell_type": "code",
   "execution_count": 173,
   "id": "ecaf6d6d",
   "metadata": {},
   "outputs": [
    {
     "name": "stdout",
     "output_type": "stream",
     "text": [
      "Average sorting time is -  6.0\n"
     ]
    }
   ],
   "source": [
    "## average sorting time\n",
    "print(\"Average sorting time is - \",round(df['Sorting Time'].mean(),0))"
   ]
  },
  {
   "cell_type": "code",
   "execution_count": 174,
   "id": "309ab5ea",
   "metadata": {},
   "outputs": [
    {
     "data": {
      "image/png": "[encoded data removed]",
      "text/plain": [
       "<Figure size 640x480 with 1 Axes>"
      ]
     },
     "metadata": {},
     "output_type": "display_data"
    }
   ],
   "source": [
    "sns.scatterplot(data=df,y='Delivery Time',x='Sorting Time',markers='o',size='Sorting Time',legend=None)\n",
    "plt.show()\n"
   ]
  },
  {
   "cell_type": "code",
   "execution_count": 175,
   "id": "b7108a94",
   "metadata": {},
   "outputs": [],
   "source": [
    "## Inference - Sorting time is highly corelated with delivery time. Delivery time and sorting time is directly propotional.\n",
    "## if delivery time increases then sorting time also increases."
   ]
  },
  {
   "cell_type": "code",
   "execution_count": 176,
   "id": "5cedf1db",
   "metadata": {},
   "outputs": [
    {
     "data": {
      "image/png": "[encoded data removed]",
      "text/plain": [
       "<Figure size 640x480 with 1 Axes>"
      ]
     },
     "metadata": {},
     "output_type": "display_data"
    }
   ],
   "source": [
    "sns.countplot(data=df,x='Sorting Time',palette='deep')\n",
    "plt.show()"
   ]
  },
  {
   "cell_type": "code",
   "execution_count": 177,
   "id": "78ec89dc",
   "metadata": {},
   "outputs": [],
   "source": [
    "## Inference - Sorting time 7 is occur max times so maximum number of sorting is at 7."
   ]
  },
  {
   "cell_type": "markdown",
   "id": "22c86b1a",
   "metadata": {},
   "source": [
    "# Feature Engineering and machine learing model"
   ]
  },
  {
   "cell_type": "code",
   "execution_count": 178,
   "id": "9575f84b",
   "metadata": {},
   "outputs": [],
   "source": [
    "## dataset is having one input to predit output & linear plot is straight, so we will build simple linear regression  model."
   ]
  },
  {
   "cell_type": "code",
   "execution_count": 179,
   "id": "071bbd0c",
   "metadata": {},
   "outputs": [],
   "source": [
    "## importing scikit library\n",
    "from sklearn.model_selection import train_test_split\n",
    "from sklearn.linear_model import LinearRegression\n",
    "from sklearn.metrics import r2_score,mean_absolute_error,mean_squared_error"
   ]
  },
  {
   "cell_type": "code",
   "execution_count": 180,
   "id": "7f4661ea",
   "metadata": {},
   "outputs": [],
   "source": [
    "## set input and output of dataset\n",
    "## x - independent varibale i.e delivery time\n",
    "## y - dependent variable i.e sorting time\n",
    "\n",
    "y=df['Delivery Time']\n",
    "x=df['Sorting Time']"
   ]
  },
  {
   "cell_type": "code",
   "execution_count": 181,
   "id": "a928d16a",
   "metadata": {},
   "outputs": [],
   "source": [
    "x_train,x_test,y_train,y_test=train_test_split(x,y,train_size=0.8,random_state=1234)"
   ]
  },
  {
   "cell_type": "code",
   "execution_count": 182,
   "id": "25bd0816",
   "metadata": {},
   "outputs": [
    {
     "data": {
      "text/plain": [
       "((16,), (16,))"
      ]
     },
     "execution_count": 182,
     "metadata": {},
     "output_type": "execute_result"
    }
   ],
   "source": [
    "x_train.shape,y_train.shape"
   ]
  },
  {
   "cell_type": "code",
   "execution_count": 183,
   "id": "b62e987b",
   "metadata": {},
   "outputs": [
    {
     "data": {
      "text/plain": [
       "((5,), (5,))"
      ]
     },
     "execution_count": 183,
     "metadata": {},
     "output_type": "execute_result"
    }
   ],
   "source": [
    "x_test.shape,y_test.shape"
   ]
  },
  {
   "cell_type": "code",
   "execution_count": 184,
   "id": "17ffd883",
   "metadata": {},
   "outputs": [],
   "source": [
    "x_train=x_train.values.reshape(-1,1)\n",
    "y_train=y_train.values.reshape(-1,1)\n",
    "x_test=x_test.values.reshape(-1,1)"
   ]
  },
  {
   "cell_type": "code",
   "execution_count": 185,
   "id": "65bbd314",
   "metadata": {},
   "outputs": [],
   "source": [
    "lr_model=LinearRegression()"
   ]
  },
  {
   "cell_type": "code",
   "execution_count": 186,
   "id": "5b4cc863",
   "metadata": {},
   "outputs": [],
   "source": [
    "lr_model_fit=lr_model.fit(x_train,y_train)"
   ]
  },
  {
   "cell_type": "code",
   "execution_count": 187,
   "id": "e22580d5",
   "metadata": {},
   "outputs": [
    {
     "name": "stdout",
     "output_type": "stream",
     "text": [
      "[6.66384615]\n"
     ]
    }
   ],
   "source": [
    "## intercept of model\n",
    "print(lr_model_fit.intercept_)"
   ]
  },
  {
   "cell_type": "code",
   "execution_count": 188,
   "id": "f8faa546",
   "metadata": {},
   "outputs": [
    {
     "name": "stdout",
     "output_type": "stream",
     "text": [
      "[[1.60153846]]\n"
     ]
    }
   ],
   "source": [
    "## coef of model\n",
    "print(lr_model_fit.coef_)"
   ]
  },
  {
   "cell_type": "code",
   "execution_count": 189,
   "id": "7640e719",
   "metadata": {},
   "outputs": [],
   "source": [
    "y_pred=lr_model_fit.predict(x_test)"
   ]
  },
  {
   "cell_type": "code",
   "execution_count": 190,
   "id": "6e4360ac",
   "metadata": {},
   "outputs": [],
   "source": [
    "df_y_pred=pd.DataFrame(y_pred,columns=['pred'])"
   ]
  },
  {
   "cell_type": "code",
   "execution_count": 191,
   "id": "82c3b83c",
   "metadata": {},
   "outputs": [],
   "source": [
    "df_y_pred['actual']=y_test.values"
   ]
  },
  {
   "cell_type": "code",
   "execution_count": 192,
   "id": "df5ee3d4",
   "metadata": {},
   "outputs": [
    {
     "name": "stdout",
     "output_type": "stream",
     "text": [
      "        pred  actual\n",
      "0  21.077692   24.00\n",
      "1  11.468462   11.50\n",
      "2  16.273077   19.75\n",
      "3  16.273077   13.75\n",
      "4  11.468462   12.03\n"
     ]
    }
   ],
   "source": [
    "print(df_y_pred)"
   ]
  },
  {
   "cell_type": "code",
   "execution_count": 193,
   "id": "238102e7",
   "metadata": {},
   "outputs": [
    {
     "data": {
      "text/plain": [
       "0.577463605342888"
      ]
     },
     "execution_count": 193,
     "metadata": {},
     "output_type": "execute_result"
    }
   ],
   "source": [
    "r2_score(df_y_pred['pred'],df_y_pred['actual'])"
   ]
  },
  {
   "cell_type": "code",
   "execution_count": 194,
   "id": "24c3075b",
   "metadata": {},
   "outputs": [],
   "source": [
    "## r2_score is 0.57, so build model is towards 1 so it is good model."
   ]
  },
  {
   "cell_type": "code",
   "execution_count": 195,
   "id": "7add7de2",
   "metadata": {},
   "outputs": [
    {
     "data": {
      "text/plain": [
       "1.9030769230769233"
      ]
     },
     "execution_count": 195,
     "metadata": {},
     "output_type": "execute_result"
    }
   ],
   "source": [
    "mean_absolute_error(df_y_pred['pred'],df_y_pred['actual'])"
   ]
  },
  {
   "cell_type": "code",
   "execution_count": 196,
   "id": "5c3d1a44",
   "metadata": {},
   "outputs": [
    {
     "data": {
      "text/plain": [
       "5.462222721893498"
      ]
     },
     "execution_count": 196,
     "metadata": {},
     "output_type": "execute_result"
    }
   ],
   "source": [
    "mean_squared_error(df_y_pred['pred'],df_y_pred['actual'])"
   ]
  },
  {
   "cell_type": "code",
   "execution_count": 197,
   "id": "bc01608e",
   "metadata": {},
   "outputs": [],
   "source": [
    "from math import sqrt"
   ]
  },
  {
   "cell_type": "code",
   "execution_count": 198,
   "id": "4c8ae8f3",
   "metadata": {},
   "outputs": [
    {
     "data": {
      "text/plain": [
       "2.3371398592924426"
      ]
     },
     "execution_count": 198,
     "metadata": {},
     "output_type": "execute_result"
    }
   ],
   "source": [
    "sqrt(mean_squared_error(df_y_pred['pred'],df_y_pred['actual']))"
   ]
  },
  {
   "cell_type": "code",
   "execution_count": 199,
   "id": "29403d7e",
   "metadata": {},
   "outputs": [],
   "source": [
    "## save the model\n",
    "import joblib"
   ]
  },
  {
   "cell_type": "code",
   "execution_count": 200,
   "id": "30f799c4",
   "metadata": {},
   "outputs": [
    {
     "data": {
      "text/plain": [
       "['delivery_sorting_lrmodel.sav']"
      ]
     },
     "execution_count": 200,
     "metadata": {},
     "output_type": "execute_result"
    }
   ],
   "source": [
    "file='delivery_sorting_lrmodel.sav'\n",
    "joblib.dump(lr_model_fit,file)"
   ]
  },
  {
   "cell_type": "code",
   "execution_count": 201,
   "id": "55cb8353",
   "metadata": {},
   "outputs": [
    {
     "name": "stdout",
     "output_type": "stream",
     "text": [
      "LinearRegression()\n"
     ]
    }
   ],
   "source": [
    "## load the model\n",
    "loaded_model=joblib.load(file)\n",
    "print(loaded_model)"
   ]
  },
  {
   "cell_type": "code",
   "execution_count": 202,
   "id": "2dd8807b",
   "metadata": {},
   "outputs": [
    {
     "data": {
      "text/plain": [
       "array([[21.07769231],\n",
       "       [11.46846154],\n",
       "       [16.27307692],\n",
       "       [16.27307692],\n",
       "       [11.46846154]])"
      ]
     },
     "execution_count": 202,
     "metadata": {},
     "output_type": "execute_result"
    }
   ],
   "source": [
    "y_pred_=loaded_model.predict(x_test)\n",
    "y_pred_"
   ]
  },
  {
   "cell_type": "markdown",
   "id": "746477d8",
   "metadata": {},
   "source": [
    "# Project insights and conclusion"
   ]
  },
  {
   "cell_type": "code",
   "execution_count": 203,
   "id": "be6564ac",
   "metadata": {},
   "outputs": [],
   "source": [
    "# In above project we have dataset of delivery time and sorting time.\n",
    "# It is observed that delivery time and sorting time is strongly correlate with each other.\n",
    "# max delivery time is 29, min delivery time is 8, average delivery time is 17\n",
    "# max sorting time is 10, min sorting time is 2, average sorting time is 6. max sorting time count is 7.\n",
    "# Then i have build simple linear regression machine learning model to predit delivery time based on sorting time.\n",
    "# model coefficient of determination is 0.57, so model is good."
   ]
  },
  {
   "cell_type": "code",
   "execution_count": null,
   "id": "639203a1",
   "metadata": {},
   "outputs": [],
   "source": []
  }
 ],
 "metadata": {
  "kernelspec": {
   "display_name": "Python 3 (ipykernel)",
   "language": "python",
   "name": "python3"
  },
  "language_info": {
   "codemirror_mode": {
    "name": "ipython",
    "version": 3
   },
   "file_extension": ".py",
   "mimetype": "text/x-python",
   "name": "python",
   "nbconvert_exporter": "python",
   "pygments_lexer": "ipython3",
   "version": "3.11.4"
  }
 },
 "nbformat": 4,
 "nbformat_minor": 5
}
